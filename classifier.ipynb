{
 "cells": [
  {
   "cell_type": "code",
   "execution_count": 1,
   "metadata": {},
   "outputs": [],
   "source": [
    "# imports\n",
    "from IPython.display import clear_output\n",
    "import numpy as np\n",
    "import matplotlib.pyplot as plt\n",
    "import tensorflow as tf\n",
    "import sklearn\n",
    "from tensorflow import keras\n",
    "from tensorflow.keras import models, layers\n",
    "from tensorflow.keras.models import Sequential, model_from_json\n",
    "from tensorflow.keras.layers import Dense, Flatten, Dropout\n",
    "from sklearn.model_selection import train_test_split\n",
    "import random\n",
    "import time"
   ]
  },
  {
   "cell_type": "code",
   "execution_count": 2,
   "metadata": {},
   "outputs": [],
   "source": [
    "# loading samples\n",
    "data = np.load('../../data/dataset.npz')\n",
    "x = data['arr_0']\n",
    "labels = data['arr_1']\n",
    "y = keras.utils.to_categorical(labels, num_classes=9)"
   ]
  },
  {
   "cell_type": "code",
   "execution_count": 3,
   "metadata": {},
   "outputs": [],
   "source": [
    "# sorting samples\n",
    "sorted_x = [[] for i in range(8)]\n",
    "for i in range(len(labels)):\n",
    "    sorted_x[labels[i]-1].append(x[i])\n",
    "for i in range(len(sorted_x)):\n",
    "    sorted_x[i] = np.asarray(sorted_x[i])"
   ]
  },
  {
   "cell_type": "code",
   "execution_count": 4,
   "metadata": {},
   "outputs": [],
   "source": [
    "# creating binary samples\n",
    "first_label = 4\n",
    "second_label = 8\n",
    "\n",
    "half_x_1 = sorted_x[first_label-1]\n",
    "half_x_2 = sorted_x[second_label-1]\n",
    "\n",
    "binary_x = np.concatenate((half_x_1, half_x_2), axis=0)\n",
    "binary_y = np.concatenate((np.asarray([0 for i in range(len(half_x_1))]), np.asarray([1 for i in range(len(half_x_2))])), axis=0)"
   ]
  },
  {
   "cell_type": "code",
   "execution_count": 5,
   "metadata": {},
   "outputs": [],
   "source": [
    "# spliting samples into training and testing sets\n",
    "# x_train, x_test, y_train, y_test = sklearn.model_selection.train_test_split(x, y, test_size=0.1, random_state=42)\n",
    "x_train, x_test, y_train, y_test = sklearn.model_selection.train_test_split(binary_x, binary_y, test_size=0.1, random_state=42)"
   ]
  },
  {
   "cell_type": "code",
   "execution_count": 6,
   "metadata": {},
   "outputs": [],
   "source": [
    "# print(x.shape)\n",
    "# print(binary_x.shape)\n",
    "# print(labels.shape)\n",
    "# print(y.shape)\n",
    "# print(binary_y.shape)\n",
    "\n",
    "# print(x)\n",
    "# print(binary_x)\n",
    "# print(labels[0:1000])\n",
    "# print(y)\n",
    "# print(binary_y)\n",
    "\n",
    "# print(y.sum(0))\n",
    "# print(binary_y.sum(0))\n",
    "\n",
    "# print(x_train.shape)\n",
    "# print(y_train.shape)\n",
    "# print(y_train.sum(0))\n",
    "\n",
    "# print(x_test.shape)\n",
    "# print(y_test.shape)\n",
    "# print(y_test.sum(0))"
   ]
  },
  {
   "cell_type": "code",
   "execution_count": 15,
   "metadata": {},
   "outputs": [
    {
     "name": "stdout",
     "output_type": "stream",
     "text": [
      "Model: \"sequential_1\"\n",
      "_________________________________________________________________\n",
      "Layer (type)                 Output Shape              Param #   \n",
      "=================================================================\n",
      "flatten_1 (Flatten)          (None, 81920)             0         \n",
      "_________________________________________________________________\n",
      "dense_1 (Dense)              (None, 1)                 81921     \n",
      "=================================================================\n",
      "Total params: 81,921\n",
      "Trainable params: 81,921\n",
      "Non-trainable params: 0\n",
      "_________________________________________________________________\n"
     ]
    }
   ],
   "source": [
    "# creating model\n",
    "model = Sequential()\n",
    "model.add(Flatten(input_shape=x_train.shape[1:]))\n",
    "# model.add(Dense(9, activation='softmax'))\n",
    "model.add(Dense(1, activation='sigmoid'))\n",
    "\n",
    "# model.compile(loss='categorical_crossentropy', optimizer='sgd', metrics=['accuracy'])\n",
    "model.compile(loss='binary_crossentropy', optimizer='rmsprop', metrics=['accuracy'])\n",
    "\n",
    "model.summary()"
   ]
  },
  {
   "cell_type": "code",
   "execution_count": 16,
   "metadata": {},
   "outputs": [
    {
     "name": "stdout",
     "output_type": "stream",
     "text": [
      "timer: 228.55585718154907\n"
     ]
    }
   ],
   "source": [
    "# training model\n",
    "start = time.time()\n",
    "history = model.fit(x_train, y_train, epochs=10)\n",
    "accuracy_history = history.history['accuracy']\n",
    "while (accuracy_history[-1] < 0.90):\n",
    "    clear_output()\n",
    "    history = model.fit(x_train, y_train, epochs=10)\n",
    "    accuracy_history += history.history['accuracy']\n",
    "clear_output()\n",
    "end = time.time()\n",
    "print('timer:', end - start) "
   ]
  },
  {
   "cell_type": "code",
   "execution_count": 17,
   "metadata": {},
   "outputs": [
    {
     "data": {
      "image/png": "[encoded data removed]",
      "text/plain": [
       "<Figure size 432x288 with 1 Axes>"
      ]
     },
     "metadata": {
      "needs_background": "light"
     },
     "output_type": "display_data"
    }
   ],
   "source": [
    "# displaying evolution of accuracy over training\n",
    "plt.plot(accuracy_history, label='training')\n",
    "plt.title('Accuracy over time')\n",
    "plt.ylabel('Accuracy')\n",
    "plt.xlabel('No. epoch')\n",
    "plt.legend(loc=\"upper left\")\n",
    "plt.show()"
   ]
  },
  {
   "cell_type": "code",
   "execution_count": 18,
   "metadata": {
    "scrolled": true
   },
   "outputs": [
    {
     "name": "stdout",
     "output_type": "stream",
     "text": [
      "loss     : 51.36146072387695\n",
      "accuracy : 0.8\n"
     ]
    }
   ],
   "source": [
    "# evaluating score\n",
    "score = model.evaluate(x_test, y_test)\n",
    "clear_output()\n",
    "print(\"loss     :\", score[0])\n",
    "print(\"accuracy :\", score[1])"
   ]
  },
  {
   "cell_type": "code",
   "execution_count": 19,
   "metadata": {},
   "outputs": [],
   "source": [
    "# evaluating score for each genre\n",
    "# accuracies = []\n",
    "# for i in range(8):\n",
    "#     label_tmp = np.asarray([0 for j in range(9)])\n",
    "#     label_tmp[i+1] = 1\n",
    "#     x_test_tmp = []\n",
    "#     y_test_tmp = []\n",
    "#     for k in range(len(y_test)):\n",
    "#         if(np.array_equal(y_test[k], label_tmp)):\n",
    "#             x_test_tmp.append(x_test[k])\n",
    "#             y_test_tmp.append(y_test[k])\n",
    "#     score_tmp = model.evaluate(np.asarray(x_test_tmp), np.asarray(y_test_tmp))\n",
    "#     clear_output()\n",
    "#     accuracies.append(score_tmp[1])\n",
    "    \n",
    "# print(accuracies)        "
   ]
  },
  {
   "cell_type": "code",
   "execution_count": 20,
   "metadata": {},
   "outputs": [
    {
     "name": "stdout",
     "output_type": "stream",
     "text": [
      "Saved model to disk\n",
      "Loaded model from disk\n"
     ]
    }
   ],
   "source": [
    "# serialize model to JSON\n",
    "model_json = model.to_json()\n",
    "with open(\"model.json\", \"w\") as json_file:\n",
    "    json_file.write(model_json)\n",
    "# serialize weights to HDF5\n",
    "model.save_weights(\"model.h5\")\n",
    "print(\"Saved model to disk\")\n",
    "\n",
    "# load json and create model\n",
    "json_file = open('model.json', 'r')\n",
    "loaded_model_json = json_file.read()\n",
    "json_file.close()\n",
    "loaded_model = model_from_json(loaded_model_json)\n",
    "# load weights into new model\n",
    "loaded_model.load_weights(\"model.h5\")\n",
    "print(\"Loaded model from disk\")"
   ]
  },
  {
   "cell_type": "code",
   "execution_count": null,
   "metadata": {},
   "outputs": [],
   "source": []
  }
 ],
 "metadata": {
  "kernelspec": {
   "display_name": "Python 3",
   "language": "python",
   "name": "python3"
  },
  "language_info": {
   "codemirror_mode": {
    "name": "ipython",
    "version": 3
   },
   "file_extension": ".py",
   "mimetype": "text/x-python",
   "name": "python",
   "nbconvert_exporter": "python",
   "pygments_lexer": "ipython3",
   "version": "3.7.0"
  }
 },
 "nbformat": 4,
 "nbformat_minor": 2
}
