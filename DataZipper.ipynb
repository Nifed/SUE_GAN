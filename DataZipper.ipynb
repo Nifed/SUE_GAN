{
 "cells": [
  {
   "cell_type": "code",
   "execution_count": 1,
   "metadata": {},
   "outputs": [],
   "source": [
    "import os\n",
    "\n",
    "import numpy as np\n",
    "import librosa\n",
    "import librosa.display\n",
    "import pandas as pd\n",
    "import matplotlib.pyplot as plt\n",
    "%matplotlib inline"
   ]
  },
  {
   "cell_type": "code",
   "execution_count": 2,
   "metadata": {},
   "outputs": [],
   "source": [
    "\n",
    "def unison_shuffled_copies(a, b):\n",
    "    assert len(a) == len(b)\n",
    "    p = np.random.permutation(len(a))\n",
    "    return a[p], b[p]\n",
    "\n",
    "npzfile = np.load('train1_arr.npz')\n",
    "X_train1 = npzfile['arr_0']\n",
    "y_train1 = npzfile['arr_1']\n",
    "\n",
    "npzfile = np.load('train2_arr.npz')\n",
    "X_train2 = npzfile['arr_0']\n",
    "y_train2 = npzfile['arr_1']\n",
    "\n",
    "npzfile = np.load('train3_arr.npz')\n",
    "X_train3 = npzfile['arr_0']\n",
    "y_train3 = npzfile['arr_1']\n",
    "\n",
    "npzfile = np.load('train4_arr.npz')\n",
    "X_train4 = npzfile['arr_0']\n",
    "y_train4 = npzfile['arr_1']\n",
    "\n",
    "\n",
    "X_train = np.concatenate((X_train1, X_train2, X_train3, X_train4), axis = 0)\n",
    "y_train = np.concatenate((y_train1, y_train2, y_train3, y_train4), axis = 0)\n",
    "\n",
    "y_train = y_train -1\n",
    "\n",
    "X_train_raw = librosa.core.db_to_power(X_train, ref=1.0)\n",
    "X_train_log = np.log(X_train_raw)\n",
    "\n",
    "def unison_shuffled_copies(a, b):\n",
    "    assert len(a) == len(b)\n",
    "    p = np.random.permutation(len(a))\n",
    "    return a[p], b[p]\n",
    "\n",
    "X_train, y_train = unison_shuffled_copies(X_train_log, y_train)\n",
    "np.savez('testing_spectograms', X_train, y_train)\n",
    "\n",
    "\n"
   ]
  },
  {
   "cell_type": "code",
   "execution_count": null,
   "metadata": {},
   "outputs": [],
   "source": []
  }
 ],
 "metadata": {
  "kernelspec": {
   "display_name": "Python 3",
   "language": "python",
   "name": "python3"
  },
  "language_info": {
   "codemirror_mode": {
    "name": "ipython",
    "version": 3
   },
   "file_extension": ".py",
   "mimetype": "text/x-python",
   "name": "python",
   "nbconvert_exporter": "python",
   "pygments_lexer": "ipython3",
   "version": "3.7.6"
  }
 },
 "nbformat": 4,
 "nbformat_minor": 2
}
