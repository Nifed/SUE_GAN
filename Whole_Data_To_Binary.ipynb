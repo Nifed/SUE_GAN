{
 "cells": [
  {
   "cell_type": "code",
   "execution_count": 1,
   "metadata": {},
   "outputs": [],
   "source": [
    "import numpy as np"
   ]
  },
  {
   "cell_type": "code",
   "execution_count": 2,
   "metadata": {},
   "outputs": [],
   "source": [
    "npzfile = np.load('./data/fma_arrays/dataset.npz')\n",
    "\n",
    "x  = npzfile['arr_0'] \n",
    "y  = npzfile['arr_1']\n",
    "\n",
    "\n",
    "y_electronic = np.copy(y)\n",
    "y_experimental = np.copy(y)\n",
    "y_folk = np.copy(y)\n",
    "y_hiphop = np.copy(y)\n",
    "y_instrumental = np.copy(y)\n",
    "y_international = np.copy(y)\n",
    "y_pop = np.copy(y)\n",
    "y_rock = np.copy(y)\n",
    "\n",
    "y_electronic[y_electronic!=1] = 0\n",
    "y_experimental[y_experimental!=2] = 0\n",
    "y_folk[y_folk!=3] = 0\n",
    "y_hiphop[y_hiphop!=4] = 0\n",
    "y_instrumental[y_instrumental!=5] = 0\n",
    "y_international[y_international!=6] = 0\n",
    "y_pop[y_pop!=7] = 0\n",
    "y_rock [y_rock!=8]= 0"
   ]
  },
  {
   "cell_type": "code",
   "execution_count": 3,
   "metadata": {},
   "outputs": [],
   "source": [
    "x_all = []\n",
    "y_all = np.array([y_electronic, y_experimental, y_folk, y_hiphop, y_instrumental, y_international, y_pop, y_rock])\n",
    "\n",
    "for v in y_all:\n",
    "    v[v>1] = 1"
   ]
  },
  {
   "cell_type": "code",
   "execution_count": null,
   "metadata": {},
   "outputs": [],
   "source": [
    "file_names = [\"electronic\", \"experimental\", \"folk\", \"hiphop\", \"instrumental\", \"international\", \"pop\", \"rock\" ]\n",
    "\n",
    "for index, genre in enumerate(y_all):\n",
    "    np.savez(file_names[index] + \"_bin_data.npz\", x, genre)"
   ]
  },
  {
   "cell_type": "code",
   "execution_count": null,
   "metadata": {},
   "outputs": [],
   "source": []
  },
  {
   "cell_type": "code",
   "execution_count": null,
   "metadata": {},
   "outputs": [],
   "source": []
  }
 ],
 "metadata": {
  "kernelspec": {
   "display_name": "Python 3",
   "language": "python",
   "name": "python3"
  },
  "language_info": {
   "codemirror_mode": {
    "name": "ipython",
    "version": 3
   },
   "file_extension": ".py",
   "mimetype": "text/x-python",
   "name": "python",
   "nbconvert_exporter": "python",
   "pygments_lexer": "ipython3",
   "version": "3.7.6"
  }
 },
 "nbformat": 4,
 "nbformat_minor": 2
}
